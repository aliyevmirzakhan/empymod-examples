{
 "cells": [
  {
   "cell_type": "markdown",
   "metadata": {},
   "source": [
    "# OUTDATED, the examples moved to the manual\n",
    "## See https://empymod.readthedocs.io/en/stable/examples\n",
    "\n",
    "----\n",
    "\n",
    "# Cole-Cole\n",
    "\n",
    "There are various different definitions of a Cole-Cole model, see for instance Tarasov and Titov (2013). We try a few different ones here, but you can supply your preferred version.\n",
    "\n",
    "The original Cole-Cole (1940) model was formulated for the complex dielectric permittivity. It is reformulated to conductivity to use it for IP,\n",
    "\n",
    "$$\n",
    "\\sigma(\\omega) = \\sigma_\\infty + \\frac{\\sigma_0 - \\sigma_\\infty}{1 + (i\\omega\\tau)^C}\\ . \\qquad\\qquad\\qquad (1)\n",
    "$$\n",
    "\n",
    "Another, similar model is given by Pelton et al. (1978),\n",
    "\n",
    "$$\n",
    "\\rho(\\omega) = \\rho_\\infty + \\frac{\\rho_0 - \\rho_\\infty}{1 + (i\\omega\\tau)^C}\\ . \\qquad\\qquad\\qquad (2)\n",
    "$$\n",
    "\n",
    "Equation (2) is just like equation (1), but replaces $\\sigma$ by $\\rho$. However, mathematically they are not the same. Substituting $\\rho = 1/\\sigma$ in the latter and resolving it for $\\sigma$ will not yield the former. Equation (2) is usually written in the following form, using the chargeability $m = (\\rho_0-\\rho_\\infty)/\\rho_0$,\n",
    "\n",
    "$$\n",
    "\\rho(\\omega) = \\rho_0 \\left[1 - m \\left(1- \\frac{1}{1 + (i\\omega\\tau)^C} \\right)\\right]\\ . \\quad (3)\n",
    "$$\n",
    "\n",
    "In all cases we add the part coming from the dielectric permittivity (displacement currents), even tough it usually doesn't matter in the frequency range of IP.\n",
    "\n",
    "#### Note: Requires `empymod v1.7.4` or newer.\n",
    "\n",
    "### References\n",
    "\n",
    "**Cole, K.S., and R.H. Cole, 1941**, Dispersion and adsorption in dielectrics. I. Alternating current characteristics; *Journal of Chemical Physics*, Volume 9, Pages 341-351, doi: [10.1063/1.1750906](https://doi.org/10.1063/1.1750906).\n",
    "\n",
    "**Pelton, W.H., S.H. Ward, P.G. Hallof, W.R. Sill, and P.H. Nelson, 1978**, Mineral discrimination and removal of inductive coupling with multifrequency IP, *Geophysics*, Volume 43, Pages 588-609, doi: [10.1190/1.1440839](https://doi.org/10.1190/1.1440839).\n",
    "\n",
    "**Tarasov, A., and K. Titov, 2013**, On the use of the Cole–Cole equations in spectral induced polarization; *Geophysical Journal International*, Volume 195, Issue 1, Pages 352-356, doi: [10.1093/gji/ggt251](https://doi.org/10.1093/gji/ggt251)."
   ]
  },
  {
   "cell_type": "code",
   "execution_count": 1,
   "metadata": {},
   "outputs": [],
   "source": [
    "import numpy as np\n",
    "import matplotlib.pyplot as plt\n",
    "\n",
    "from empymod import bipole, versions\n",
    "from empymod.utils import _check_var"
   ]
  },
  {
   "cell_type": "code",
   "execution_count": 2,
   "metadata": {},
   "outputs": [],
   "source": [
    "# Plot-style adjustments\n",
    "plt.style.use('ggplot')\n",
    "plt.rcParams['figure.dpi'] = 100"
   ]
  },
  {
   "cell_type": "markdown",
   "metadata": {},
   "source": [
    "## Use `empymod` with a user-defined function to adjust $\\eta$ and $\\zeta$\n",
    "\n",
    "In principal it is always best to write your own modelling routine if you want to adjust something. Just copy `empymod.dipole` or `empymod.bipole` as a template, and modify it to your needs. Since `empymod v1.7.4`, however, there\n",
    "is a hook which allows you to modify $\\eta_h, \\eta_v, \\zeta_h$, and $\\zeta_v$ quite easily.\n",
    "\n",
    "The trick is to provide a dictionary (we name it `inp` here) instead of the resistivity vector in `res`. This dictionary, `inp`, has two mandatory plus optional entries:\n",
    "- `res`: the resistivity vector you would have provided normally (mandatory).\n",
    "- A function name, which has to be either or both of (mandatory)\n",
    "    - `func_eta`: To adjust `etaH` and `etaV`, or\n",
    "    - `func_zeta`: to adjust `zetaH` and `zetaV`.\n",
    "- In addition, you have to provide all parameters you use in `func_eta`/`func_zeta` and are not already provided to `empymod`. All additional parameters must have #layers elements.\n",
    "\n",
    "The functions `func_eta` and `func_zeta` must have the following characteristics:\n",
    "- The signature is `func(inp, p_dict)`, where\n",
    "    - `inp` is the dictionary you provide, and\n",
    "    - `p_dict` is a dictionary that contains all parameters so far calculated in empymod [`locals()`].\n",
    "- It must return `etaH, etaV` if `func_eta`, or `zetaH, zetaV` if `func_zeta`.\n",
    "\n",
    "Dummy example\n",
    "```\n",
    "def my_new_eta(inp, p_dict):\n",
    "    # Your calculations, using the parameters you provided\n",
    "    # in `inp` and the parameters from empymod in `p_dict`.\n",
    "    # In the example below, we provide, e.g., inp['tau']\n",
    "    return etaH, etaV\n",
    "```\n",
    "And then you call `empymod` with `res={'res': res-array, 'tau': tau, 'func_eta': my_new_eta}`.\n",
    "\n",
    "## Define the Cole-Cole model\n",
    "\n",
    "In this notebook we exploit this hook in empymod to calculate $\\eta_h$ and $\\eta_v$ with the Cole-Cole model. By default, $\\eta_h$ and $\\eta_v$ are calculated like this:\n",
    "\n",
    "$$\n",
    "    \\eta_h = \\frac{1}{\\rho} + j\\omega \\varepsilon_{r;h}\\varepsilon_0 \\ , \\qquad (4)\\\\\n",
    "    \\eta_v = \\frac{1}{\\rho \\lambda^2} + j\\omega\\varepsilon_{r;v}\\varepsilon_0 \\ . \\qquad (5)\n",
    "$$\n",
    "\n",
    "With this function we recalculate it. We replace the real part, the resistivity $\\rho$, in equations (4) and (5) by the complex, frequency-dependent Cole-Cole resistivity [$\\rho(\\omega)$], as given, for instance, in equations (1)-(3). Then we add back the imaginary part coming from thet dielectric permittivity (basically zero for low frequencies).\n",
    "\n",
    "Note that in this notebook we use this hook to model relaxation in the low frequency spectrum for IP measurements, replacing $\\rho$ by a frequency-dependent model $\\rho(\\omega)$. However, this could also be used to model dielectric phenomena in the high frequency spectrum, replacing $\\varepsilon_r$ by a frequency-dependent formula $\\varepsilon_r(\\omega)$."
   ]
  },
  {
   "cell_type": "code",
   "execution_count": 3,
   "metadata": {},
   "outputs": [],
   "source": [
    "def cole_cole(inp, p_dict):\n",
    "    \"\"\"Cole and Cole (1941).\"\"\"   \n",
    "    \n",
    "    # Calculate complex conductivity from Cole-Cole\n",
    "    iotc = np.outer(2j*np.pi*p_dict['freq'], inp['tau'])**inp['c']\n",
    "    condH = inp['cond_8'] + (inp['cond_0']-inp['cond_8'])/(1+iotc)\n",
    "    condV = condH/p_dict['aniso']**2\n",
    "\n",
    "    # Add electric permittivity contribution\n",
    "    etaH = condH + 1j*p_dict['etaH'].imag\n",
    "    etaV = condV + 1j*p_dict['etaV'].imag\n",
    "\n",
    "    return etaH, etaV\n",
    "\n",
    "\n",
    "def pelton_et_al(inp, p_dict):\n",
    "    \"\"\" Pelton et al. (1978).\"\"\"\n",
    "\n",
    "    # Calculate complex resistivity from Pelton et al.\n",
    "    iotc = np.outer(2j*np.pi*p_dict['freq'], inp['tau'])**inp['c']\n",
    "    rhoH = inp['rho_0']*(1 - inp['m']*(1 - 1/(1 + iotc)))\n",
    "    rhoV = rhoH*p_dict['aniso']**2\n",
    "\n",
    "    # Add electric permittivity contribution\n",
    "    etaH = 1/rhoH + 1j*p_dict['etaH'].imag\n",
    "    etaV = 1/rhoV + 1j*p_dict['etaV'].imag\n",
    "\n",
    "    return etaH, etaV"
   ]
  },
  {
   "cell_type": "markdown",
   "metadata": {},
   "source": [
    "## Example\n",
    "\n",
    "Two half-space model, air above earth:\n",
    "\n",
    "- x-directed sourcer at the surface\n",
    "- x-directed receiver, also at the surface, inline at an offset of 500 m. \n",
    "- Switch-on time-domain response\n",
    "- Isotropic\n",
    "- Model [air, subsurface]\n",
    "    - $\\rho_\\infty = 1/\\sigma_\\infty =$ [2e14, 10]\n",
    "    - $\\rho_0 = 1/\\sigma_0 =$ [2e14, 5]\n",
    "    - $\\tau =$ [0, 1]\n",
    "    - $c =$ [0, 0.5]"
   ]
  },
  {
   "cell_type": "code",
   "execution_count": 4,
   "metadata": {
    "scrolled": false
   },
   "outputs": [
    {
     "data": {
      "image/png": "[encoded data removed]",
      "text/plain": [
       "<Figure size 600x400 with 1 Axes>"
      ]
     },
     "metadata": {},
     "output_type": "display_data"
    }
   ],
   "source": [
    "# Times\n",
    "times = np.logspace(-2, 2, 101)\n",
    "\n",
    "# Model parameter which apply for all\n",
    "model = {\n",
    "    'src': [0, 0, 1e-5, 0, 0],\n",
    "    'rec': [500, 0, 1e-5, 0, 0],\n",
    "    'depth': 0,\n",
    "    'freqtime': times,\n",
    "    'signal': 1,\n",
    "    'verb': 1\n",
    "}\n",
    "\n",
    "# Collect Cole-Cole models\n",
    "res_0 = np.array([2e14, 10])\n",
    "res_8 = np.array([2e14, 5])\n",
    "tau = [0, 1]\n",
    "c = [0, 0.5]\n",
    "m = (res_0-res_8)/res_0\n",
    "\n",
    "cole_model = {'res': res_0, 'cond_0': 1/res_0, 'cond_8': 1/res_8,\n",
    "              'tau': tau, 'c': c, 'func_eta': cole_cole}\n",
    "pelton_model = {'res': res_0, 'rho_0': res_0, 'm': m, \n",
    "                'tau': tau, 'c': c, 'func_eta': pelton_et_al}\n",
    "\n",
    "# Calculate\n",
    "out_bipole = bipole(res=res_0, **model)\n",
    "out_cole = bipole(res=cole_model, **model)\n",
    "out_pelton = bipole(res=pelton_model, **model)\n",
    "\n",
    "# Plot\n",
    "plt.figure()\n",
    "plt.title('Switch-off')\n",
    "plt.plot(times, out_bipole, label='Regular Bipole')\n",
    "plt.plot(times, out_cole, '--', label='Cole and Cole (1941)')\n",
    "plt.plot(times, out_pelton, '-.', label='Pelton et al. (1978)')\n",
    "plt.legend()\n",
    "plt.yscale('log')\n",
    "plt.xscale('log')\n",
    "plt.xlabel('time (s)')\n",
    "plt.show()"
   ]
  },
  {
   "cell_type": "code",
   "execution_count": 5,
   "metadata": {},
   "outputs": [
    {
     "data": {
      "text/html": [
       "<table style='border: 3px solid #ddd;'>\n",
       "  <tr>\n",
       "     <td style='text-align: center; font-weight: bold; font-size: 1.2em; border: 2px solid #fff;' colspan='8'>Sat Oct 27 08:41:39 2018 CDT</td>\n",
       "  </tr>\n",
       "  <tr>\n",
       "    <td style='text-align: right; background-color: #ccc; border: 2px solid #fff;'>Linux</td>\n",
       "    <td style='text-align: left; border: 2px solid #fff;'>OS</td>\n",
       "    <td style='text-align: right; background-color: #ccc; border: 2px solid #fff;'>4</td>\n",
       "    <td style='text-align: left; border: 2px solid #fff;'>CPU(s)</td>\n",
       "    <td style='text-align: right; background-color: #ccc; border: 2px solid #fff;'>1.15.3</td>\n",
       "    <td style='text-align: left; border: 2px solid #fff;'>numpy</td>\n",
       "    <td style='text-align: right; background-color: #ccc; border: 2px solid #fff;'>1.1.0</td>\n",
       "    <td style='text-align: left; border: 2px solid #fff;'>scipy</td>\n",
       "  </tr>\n",
       "  <tr>\n",
       "    <td style='text-align: right; background-color: #ccc; border: 2px solid #fff;'>1.8.0</td>\n",
       "    <td style='text-align: left; border: 2px solid #fff;'>empymod</td>\n",
       "    <td style='text-align: right; background-color: #ccc; border: 2px solid #fff;'>7.0.1</td>\n",
       "    <td style='text-align: left; border: 2px solid #fff;'>IPython</td>\n",
       "    <td style='text-align: right; background-color: #ccc; border: 2px solid #fff;'>2.6.8</td>\n",
       "    <td style='text-align: left; border: 2px solid #fff;'>numexpr</td>\n",
       "    <td style='text-align: right; background-color: #ccc; border: 2px solid #fff;'>3.0.1</td>\n",
       "    <td style='text-align: left; border: 2px solid #fff;'>matplotlib</td>\n",
       "  </tr>\n",
       "  <tr>\n",
       "     <td style='text-align: center; border: 2px solid #fff;' colspan='8'>3.6.6 |Anaconda custom (64-bit)| (default, Oct  9 2018, 12:34:16) \n",
       "[GCC 7.3.0]</td>\n",
       "  </tr>\n",
       "  <tr>\n",
       "     <td style='text-align: center; background-color: #ddd;border: 2px solid #fff;' colspan='8'>Intel(R) Math Kernel Library Version 2019.0.0 Product Build 20180829 for Intel(R) 64 architecture applications</td>\n",
       "  </tr>\n",
       "</table>"
      ],
      "text/plain": [
       "<IPython.core.display.HTML object>"
      ]
     },
     "execution_count": 5,
     "metadata": {},
     "output_type": "execute_result"
    }
   ],
   "source": [
    "versions('HTML')"
   ]
  }
 ],
 "metadata": {
  "kernelspec": {
   "display_name": "Python 3",
   "language": "python",
   "name": "python3"
  },
  "language_info": {
   "codemirror_mode": {
    "name": "ipython",
    "version": 3
   },
   "file_extension": ".py",
   "mimetype": "text/x-python",
   "name": "python",
   "nbconvert_exporter": "python",
   "pygments_lexer": "ipython3",
   "version": "3.7.4"
  }
 },
 "nbformat": 4,
 "nbformat_minor": 2
}
